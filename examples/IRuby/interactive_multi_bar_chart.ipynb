{
 "metadata": {
  "language": "ruby",
  "name": ""
 },
 "nbformat": 3,
 "nbformat_minor": 0,
 "worksheets": [
  {
   "cells": [
    {
     "cell_type": "code",
     "collapsed": false,
     "input": [
      "require 'plotrb'"
     ],
     "language": "python",
     "metadata": {},
     "outputs": [
      {
       "metadata": {},
       "output_type": "pyout",
       "prompt_number": 1,
       "text": [
        "true"
       ]
      }
     ],
     "prompt_number": 1
    },
    {
     "cell_type": "code",
     "collapsed": false,
     "input": [
      "data1 = pdata.name('data1').values(\n",
      "    [\n",
      "      {x: 1,  y: 28}, {x: 2,  y: 55},\n",
      "      {x: 3,  y: 43}, {x: 4,  y: 91},\n",
      "      {x: 5,  y: 81}, {x: 6,  y: 53},\n",
      "      {x: 7,  y: 19}, {x: 8,  y: 87},\n",
      "      {x: 9,  y: 52}, {x: 10, y: 48},\n",
      "      {x: 11, y: 24}, {x: 12, y: 49},\n",
      "      {x: 13, y: 87}, {x: 14, y: 66},\n",
      "      {x: 15, y: 17}, {x: 16, y: 27},\n",
      "      {x: 17, y: 68}, {x: 18, y: 16},\n",
      "      {x: 19, y: 49}, {x: 20, y: 15}\n",
      "    ]\n",
      ")"
     ],
     "language": "python",
     "metadata": {},
     "outputs": [
      {
       "metadata": {},
       "output_type": "pyout",
       "prompt_number": 2,
       "text": [
        "#<Plotrb::Data:0xb988afa4 @name=\"data1\", @values=[{:x=>1, :y=>28}, {:x=>2, :y=>55}, {:x=>3, :y=>43}, {:x=>4, :y=>91}, {:x=>5, :y=>81}, {:x=>6, :y=>53}, {:x=>7, :y=>19}, {:x=>8, :y=>87}, {:x=>9, :y=>52}, {:x=>10, :y=>48}, {:x=>11, :y=>24}, {:x=>12, :y=>49}, {:x=>13, :y=>87}, {:x=>14, :y=>66}, {:x=>15, :y=>17}, {:x=>16, :y=>27}, {:x=>17, :y=>68}, {:x=>18, :y=>16}, {:x=>19, :y=>49}, {:x=>20, :y=>15}]>"
       ]
      }
     ],
     "prompt_number": 2
    },
    {
     "cell_type": "code",
     "collapsed": false,
     "input": [
      "data2 = pdata.name('data2').values(\n",
      "    [\n",
      "      {x: 1,  y: 8}, {x: 2,  y: 25},\n",
      "      {x: 3,  y: 4}, {x: 4,  y: 71},\n",
      "      {x: 5,  y: 21}, {x: 6,  y: 51},\n",
      "      {x: 7,  y: 13}, {x: 8,  y: 77},\n",
      "      {x: 9,  y: 52}, {x: 10, y: 42},\n",
      "      {x: 11, y: 14}, {x: 12, y: 29},\n",
      "      {x: 13, y: 82}, {x: 14, y: 56},\n",
      "      {x: 15, y: 1}, {x: 16, y: 22},\n",
      "      {x: 17, y: 8}, {x: 18, y: 36},\n",
      "      {x: 19, y: 48}, {x: 20, y: 12}\n",
      "    ]\n",
      ")"
     ],
     "language": "python",
     "metadata": {},
     "outputs": [
      {
       "metadata": {},
       "output_type": "pyout",
       "prompt_number": 3,
       "text": [
        "#<Plotrb::Data:0xb990c2fc @name=\"data2\", @values=[{:x=>1, :y=>8}, {:x=>2, :y=>25}, {:x=>3, :y=>4}, {:x=>4, :y=>71}, {:x=>5, :y=>21}, {:x=>6, :y=>51}, {:x=>7, :y=>13}, {:x=>8, :y=>77}, {:x=>9, :y=>52}, {:x=>10, :y=>42}, {:x=>11, :y=>14}, {:x=>12, :y=>29}, {:x=>13, :y=>82}, {:x=>14, :y=>56}, {:x=>15, :y=>1}, {:x=>16, :y=>22}, {:x=>17, :y=>8}, {:x=>18, :y=>36}, {:x=>19, :y=>48}, {:x=>20, :y=>12}]>"
       ]
      }
     ],
     "prompt_number": 3
    },
    {
     "cell_type": "code",
     "collapsed": false,
     "input": [
      "vis = visualization.width(700).height(500) do\n",
      "  padding top: 10, left: 30, bottom: 30, right: 10\n",
      "  data data1, data2\n",
      "  enable :interactive\n",
      "end"
     ],
     "language": "python",
     "metadata": {},
     "outputs": [
      {
       "metadata": {},
       "output_type": "pyout",
       "prompt_number": 4,
       "text": [
        "#<Plotrb::Visualization:0xb9aeafd8 @width=700, @height=500, @padding={:top=>10, :left=>30, :bottom=>30, :right=>10}, @data=[#<Plotrb::Data:0xb988afa4 @name=\"data1\", @values=[{:x=>1, :y=>28}, {:x=>2, :y=>55}, {:x=>3, :y=>43}, {:x=>4, :y=>91}, {:x=>5, :y=>81}, {:x=>6, :y=>53}, {:x=>7, :y=>19}, {:x=>8, :y=>87}, {:x=>9, :y=>52}, {:x=>10, :y=>48}, {:x=>11, :y=>24}, {:x=>12, :y=>49}, {:x=>13, :y=>87}, {:x=>14, :y=>66}, {:x=>15, :y=>17}, {:x=>16, :y=>27}, {:x=>17, :y=>68}, {:x=>18, :y=>16}, {:x=>19, :y=>49}, {:x=>20, :y=>15}]>, #<Plotrb::Data:0xb990c2fc @name=\"data2\", @values=[{:x=>1, :y=>8}, {:x=>2, :y=>25}, {:x=>3, :y=>4}, {:x=>4, :y=>71}, {:x=>5, :y=>21}, {:x=>6, :y=>51}, {:x=>7, :y=>13}, {:x=>8, :y=>77}, {:x=>9, :y=>52}, {:x=>10, :y=>42}, {:x=>11, :y=>14}, {:x=>12, :y=>29}, {:x=>13, :y=>82}, {:x=>14, :y=>56}, {:x=>15, :y=>1}, {:x=>16, :y=>22}, {:x=>17, :y=>8}, {:x=>18, :y=>36}, {:x=>19, :y=>48}, {:x=>20, :y=>12}]>], @enable=[:interactive]>"
       ]
      }
     ],
     "prompt_number": 4
    },
    {
     "cell_type": "code",
     "collapsed": false,
     "input": [
      "vis.output_server(\"funya\")"
     ],
     "language": "python",
     "metadata": {},
     "outputs": [
      {
       "metadata": {},
       "output_type": "pyout",
       "prompt_number": 6,
       "text": [
        "#<Net::HTTPUnknownResponse 846  readbody=true>"
       ]
      }
     ],
     "prompt_number": 6
    },
    {
     "cell_type": "code",
     "collapsed": false,
     "input": [],
     "language": "python",
     "metadata": {},
     "outputs": []
    }
   ],
   "metadata": {}
  }
 ]
}